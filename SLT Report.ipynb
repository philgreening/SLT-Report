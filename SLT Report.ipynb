{
 "cells": [
  {
   "cell_type": "markdown",
   "id": "6afb9886",
   "metadata": {},
   "source": [
    "# Install libraries"
   ]
  },
  {
   "cell_type": "code",
   "execution_count": null,
   "id": "5868f33f",
   "metadata": {},
   "outputs": [],
   "source": [
    "pip install xlsxwriter"
   ]
  },
  {
   "cell_type": "code",
   "execution_count": null,
   "id": "9537432b",
   "metadata": {},
   "outputs": [],
   "source": [
    "import pandas as pd\n",
    "import numpy as np\n",
    "import xlsxwriter\n",
    "from datetime import datetime, date, timedelta\n",
    "from IPython.display import display, FileLink"
   ]
  },
  {
   "cell_type": "markdown",
   "id": "25f27501",
   "metadata": {},
   "source": [
    "# Import Aula report"
   ]
  },
  {
   "cell_type": "code",
   "execution_count": null,
   "id": "9ed83a5f",
   "metadata": {},
   "outputs": [],
   "source": [
    "# Amend file path below to location of aula report\n",
    "aula_report = pd.read_csv('./Data/Aula report.csv', dtype={'STUDENT_ID':'str'})\n",
    "aula_report.rename(columns={'STUDENT_ID':'learner_identifier'},inplace=True)\n",
    "aula_report"
   ]
  },
  {
   "cell_type": "markdown",
   "id": "ddaaada4",
   "metadata": {},
   "source": [
    "# Import FL Learner report csv"
   ]
  },
  {
   "cell_type": "code",
   "execution_count": null,
   "id": "2225e385",
   "metadata": {},
   "outputs": [],
   "source": [
    "# Amend file path below to location of FL learner report\n",
    "learner_report = pd.read_csv('./Data/Learner_Report.csv', encoding='latin-1',  dtype={'run_code':'str','course_code':'str'})  # changes datatype on run code and course code to string\n",
    "                    \n",
    "learner_report"
   ]
  },
  {
   "cell_type": "markdown",
   "id": "b8f12a5b",
   "metadata": {},
   "source": [
    "# Module Report"
   ]
  },
  {
   "cell_type": "markdown",
   "id": "71136cf0",
   "metadata": {},
   "source": [
    "### Create one per program sheet"
   ]
  },
  {
   "cell_type": "code",
   "execution_count": null,
   "id": "3bbac367",
   "metadata": {},
   "outputs": [],
   "source": [
    "one_per_program = learner_report.copy()\n",
    "# deduplicate by learner_identifier and run code\n",
    "one_per_program = one_per_program.drop_duplicates(subset=['learner_identifier', 'run_code'])\n",
    "one_per_program"
   ]
  },
  {
   "cell_type": "markdown",
   "id": "794ead65",
   "metadata": {},
   "source": [
    "### Create list of learners who accessed FL during the past week"
   ]
  },
  {
   "cell_type": "code",
   "execution_count": null,
   "id": "bbfae2c5",
   "metadata": {},
   "outputs": [],
   "source": [
    "last_week_program = learner_report.copy()\n",
    "# Edit dates to create last week range\n",
    "last_week_program = last_week_program[(last_week_program['date_of_last_step_visit'] >= '2023-06-19')\n",
    "                                      & (last_week_program['date_of_last_step_visit'] <= '2023-06-25')]\n",
    "last_week_program = last_week_program.drop_duplicates(subset=['learner_identifier', 'run_code'])\n",
    "last_week_program\n"
   ]
  },
  {
   "cell_type": "markdown",
   "id": "8e79b625",
   "metadata": {},
   "source": [
    "### Create step completion sheet"
   ]
  },
  {
   "cell_type": "code",
   "execution_count": null,
   "id": "5a06a1f4",
   "metadata": {},
   "outputs": [],
   "source": [
    "step_completion = learner_report.copy()\n",
    "# step_completion = step_completion['run_start_date']\n",
    "\n",
    "# Convert the date column to datetime type if it's not already in that format\n",
    "step_completion['run_start_date'] = pd.to_datetime(step_completion['run_start_date'])\n",
    "\n",
    "# Calculate the date 7 days ago from the current date\n",
    "current_date = datetime.now().date()\n",
    "past_date = current_date - pd.DateOffset(days=7)\n",
    "\n",
    "# Filter the DataFrame to exclude the past 7 days\n",
    "step_completion = step_completion[step_completion['run_start_date'] < past_date]\n",
    "step_completion"
   ]
  },
  {
   "cell_type": "code",
   "execution_count": null,
   "id": "1e966f1a",
   "metadata": {},
   "outputs": [],
   "source": [
    "# add in %\n",
    "step_completion['steps_completed'] = step_completion['steps_completed'].str.replace('%', '')\n",
    "step_completion['steps_completed'] = step_completion['steps_completed'].astype(int)\n",
    "\n",
    "step_completion"
   ]
  },
  {
   "cell_type": "markdown",
   "id": "349cad73",
   "metadata": {},
   "source": [
    "### Create Step completion pivot table"
   ]
  },
  {
   "cell_type": "code",
   "execution_count": null,
   "id": "c437fb25",
   "metadata": {},
   "outputs": [],
   "source": [
    "step_completion_pivot = pd.pivot_table(step_completion, values='steps_completed', index=['run_code'], aggfunc='mean',  margins=True, margins_name='Total')\n",
    "step_completion_pivot['steps_completed'] = step_completion_pivot['steps_completed']/100\n",
    "step_completion_pivot = step_completion_pivot.reset_index()\n",
    "step_completion_pivot"
   ]
  },
  {
   "cell_type": "markdown",
   "id": "86f817fb",
   "metadata": {},
   "source": [
    "# Degree Report"
   ]
  },
  {
   "cell_type": "markdown",
   "id": "9e95234b",
   "metadata": {},
   "source": [
    "### Create list of invites/LTI links sent"
   ]
  },
  {
   "cell_type": "code",
   "execution_count": null,
   "id": "606d3aac",
   "metadata": {},
   "outputs": [],
   "source": [
    "invites_degree = aula_report.copy()\n",
    "invites_degree = invites_degree.drop_duplicates(subset=['learner_identifier', 'DEGREE_COURSE'])\n",
    "invites_degree"
   ]
  },
  {
   "cell_type": "markdown",
   "id": "6b8671c8",
   "metadata": {},
   "source": [
    "### Create one learner per degree sheet"
   ]
  },
  {
   "cell_type": "code",
   "execution_count": null,
   "id": "891708f1",
   "metadata": {},
   "outputs": [],
   "source": [
    "one_per_degree = learner_report.copy()\n",
    "# Deduplicate by learner_id and run code\n",
    "one_per_degree = one_per_degree.drop_duplicates(subset=['learner_identifier', 'Degree'])\n",
    "one_per_degree\n"
   ]
  },
  {
   "cell_type": "markdown",
   "id": "bdd669bf",
   "metadata": {},
   "source": [
    "### Create list of learners who accessed FL during the past week by degree"
   ]
  },
  {
   "cell_type": "code",
   "execution_count": null,
   "id": "86d359d6",
   "metadata": {},
   "outputs": [],
   "source": [
    "last_week_degree = learner_report.copy()\n",
    "last_week_degree = last_week_degree[(last_week_degree['date_of_last_step_visit'] >= '2023-06-19') & (last_week_degree['date_of_last_step_visit'] <= '2023-06-25')]\n",
    "#remove duplicates by learner_id and run_code\n",
    "last_week_degree = last_week_degree.drop_duplicates(subset=['learner_identifier', 'Degree'])\n",
    "last_week_degree\n",
    "\n"
   ]
  },
  {
   "cell_type": "markdown",
   "id": "2927da84",
   "metadata": {},
   "source": [
    "# Output to Excel"
   ]
  },
  {
   "cell_type": "code",
   "execution_count": null,
   "id": "9f47a35a",
   "metadata": {},
   "outputs": [],
   "source": [
    "file_path = 'SLT_Report.xlsx'\n",
    "\n",
    "# Save the DataFrames to the Excel workbook\n",
    "with pd.ExcelWriter(file_path, engine='xlsxwriter') as writer:\n",
    "    learner_report.to_excel(writer, sheet_name='Enhanced Learner Report', index=False)\n",
    "    aula_report.to_excel(writer, sheet_name='Aula report', index=False)\n",
    "    one_per_program.to_excel(writer, sheet_name='1 per program', index=False)\n",
    "    last_week_program.to_excel(writer, sheet_name='Last week program', index=False)\n",
    "    step_completion_pivot.to_excel(writer, sheet_name='Step completion', index=False)\n",
    "    invites_degree.to_excel(writer, sheet_name='Invites Degree', index=False)\n",
    "    one_per_degree.to_excel(writer, sheet_name='1 per Degree', index=False)\n",
    "    last_week_degree.to_excel(writer, sheet_name='Last week degree', index=False)\n",
    "\n",
    "# Display the file path as a link\n",
    "display(FileLink(file_path))"
   ]
  }
 ],
 "metadata": {
  "kernelspec": {
   "display_name": "Python 3 (ipykernel)",
   "language": "python",
   "name": "python3"
  },
  "language_info": {
   "codemirror_mode": {
    "name": "ipython",
    "version": 3
   },
   "file_extension": ".py",
   "mimetype": "text/x-python",
   "name": "python",
   "nbconvert_exporter": "python",
   "pygments_lexer": "ipython3",
   "version": "3.10.9"
  }
 },
 "nbformat": 4,
 "nbformat_minor": 5
}
