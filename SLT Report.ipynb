{
 "cells": [
  {
   "cell_type": "markdown",
   "id": "3c3c228c",
   "metadata": {},
   "source": [
    "# Intructions"
   ]
  },
  {
   "cell_type": "markdown",
   "id": "b1d0d6b4",
   "metadata": {},
   "source": [
    "To run this report, you will first need the following reports\n",
    "\n",
    "* The latest Aula report can be found [here](https://livecoventryac.sharepoint.com/:f:/t/PlatformTeam/EkSA0F6tMO5PiJeKRIRkzE0Btw5Rr7bQKZMm9uUPFX3mEA?e=XgTpsw)\n",
    "or [here](https://livecoventryac.sharepoint.com/:f:/t/PlatformTeam/EkJXF1VGYi9OnHshquJOYD0BPdj3TeujYX5RVTbXDH8PYA?e=jKMfWB)\n",
    "\n",
    "* Enhanced learner report - Use the first tabin the latest SEC report, which is called FL Learner Report, to create a new csv file named Learner_Report.csv\n",
    "[SEC report can be found here](https://livecoventryac.sharepoint.com/:f:/t/PlatformTeam/EkSA0F6tMO5PiJeKRIRkzE0Btw5Rr7bQKZMm9uUPFX3mEA?e=XgTpsw)\n",
    "or \n",
    " [here](https://livecoventryac.sharepoint.com/:f:/t/PlatformTeam/EkJXF1VGYi9OnHshquJOYD0BPdj3TeujYX5RVTbXDH8PYA?e=jKMfWB)\n",
    " \n",
    "Both files must be placed in the PT Reporting/Jupyter Notebooks(Python) [Reporting/SLT Report/Data folder](https://livecoventryac.sharepoint.com/:f:/t/PlatformTeam/EqbDy_IXthdIkSyoL8F_TjUB8N1GaQtTJP7D8btD-UN5uw?e=CdqcbD)\n",
    "\n",
    "The import link for the Aula report can be found here, and must be updated to match your file - [Import Aula report](#aula-report)    \n",
    "\n",
    "The import link for the Enhanced learner report can be found here, and must be updated to match your file - [Import FL Report](#FL_report)  \n",
    "\n",
    "\n",
    "Module report - The filter for weekly reporting can be amended here and must be changed weekly - [Filter last step visited date](#cutoff_past_week) \n",
    "\n",
    "Degree Report - The filter for weekly reporting can be amended here and must be changed weekly - [Filter last step visited date](#cutoff_past_week_degree) \n",
    "\n",
    "\n",
    "Once everything is set up and you are ready to run the report, save the notebook and the click on the 'kernel' tab on the menu bar and select 'Resart & run all'. The excel report will be availibale to download at the end of the notebook."
   ]
  },
  {
   "cell_type": "markdown",
   "id": "55a26ba7",
   "metadata": {},
   "source": [
    "# Install libraries"
   ]
  },
  {
   "cell_type": "code",
   "execution_count": null,
   "id": "56b4ea86",
   "metadata": {},
   "outputs": [],
   "source": [
    "pip install xlsxwriter"
   ]
  },
  {
   "cell_type": "code",
   "execution_count": null,
   "id": "32f4027f",
   "metadata": {},
   "outputs": [],
   "source": [
    "import pandas as pd\n",
    "import numpy as np\n",
    "import xlsxwriter\n",
    "from datetime import datetime, date, timedelta\n",
    "from IPython.display import display, FileLink"
   ]
  },
  {
   "cell_type": "markdown",
   "id": "ccfdfd79",
   "metadata": {},
   "source": [
    "# Import Aula report\n",
    "<a id=\"aula_report\"></a>"
   ]
  },
  {
   "cell_type": "code",
   "execution_count": null,
   "id": "775e374a",
   "metadata": {},
   "outputs": [],
   "source": [
    "# Amend file path below to location of aula report\n",
    "aula_report = pd.read_csv('./Data/Aula_Report.csv', dtype={'STUDENT_ID':'str'})\n",
    "aula_report.rename(columns={'STUDENT_ID':'learner_identifier'},inplace=True)\n",
    "aula_report"
   ]
  },
  {
   "cell_type": "markdown",
   "id": "5bb132cb",
   "metadata": {},
   "source": [
    "# Import FL Learner report csv\n",
    "<a id=\"FL_report\"></a>"
   ]
  },
  {
   "cell_type": "code",
   "execution_count": null,
   "id": "e5668133",
   "metadata": {},
   "outputs": [],
   "source": [
    "# Amend file path below to location of FL learner report\n",
    "learner_report = pd.read_csv('./Data/Learner_Report.csv', encoding='latin-1',  dtype={'run_code':'str','course_code':'str'})  # changes datatype on run code and course code to string\n",
    "                    \n",
    "learner_report"
   ]
  },
  {
   "cell_type": "markdown",
   "id": "ba7f4e9f",
   "metadata": {},
   "source": [
    "# Module Report"
   ]
  },
  {
   "cell_type": "markdown",
   "id": "d049684b",
   "metadata": {},
   "source": [
    "### Create one per program sheet"
   ]
  },
  {
   "cell_type": "code",
   "execution_count": null,
   "id": "3a88f1f7",
   "metadata": {},
   "outputs": [],
   "source": [
    "one_per_program = learner_report.copy()\n",
    "# deduplicate by learner_identifier and run code\n",
    "one_per_program = one_per_program.drop_duplicates(subset=['learner_identifier', 'run_code'])\n",
    "one_per_program"
   ]
  },
  {
   "cell_type": "markdown",
   "id": "aa0c2321",
   "metadata": {},
   "source": [
    "### Create list of learners who accessed FL during the past week\n",
    "<a id=\"cutoff_past_week\"></a>"
   ]
  },
  {
   "cell_type": "code",
   "execution_count": null,
   "id": "20717446",
   "metadata": {},
   "outputs": [],
   "source": [
    "last_week_program = learner_report.copy()\n",
    "# Edit dates to create last week range\n",
    "last_week_program = last_week_program[(last_week_program['date_of_last_step_visit'] >= '2023-06-19')\n",
    "                                      & (last_week_program['date_of_last_step_visit'] <= '2023-06-25')]\n",
    "last_week_program = last_week_program.drop_duplicates(subset=['learner_identifier', 'run_code'])\n",
    "last_week_program\n"
   ]
  },
  {
   "cell_type": "markdown",
   "id": "990eca67",
   "metadata": {},
   "source": [
    "### Create step completion sheet"
   ]
  },
  {
   "cell_type": "code",
   "execution_count": null,
   "id": "495078d8",
   "metadata": {},
   "outputs": [],
   "source": [
    "step_completion = learner_report.copy()\n",
    "# step_completion = step_completion['run_start_date']\n",
    "\n",
    "# Convert the date column to datetime type if it's not already in that format\n",
    "step_completion['run_start_date'] = pd.to_datetime(step_completion['run_start_date'])\n",
    "\n",
    "# Calculate the date 7 days ago from the current date\n",
    "current_date = datetime.now().date()\n",
    "past_date = current_date - pd.DateOffset(days=7)\n",
    "\n",
    "# Filter the DataFrame to exclude the past 7 days\n",
    "step_completion = step_completion[step_completion['run_start_date'] < past_date]\n",
    "step_completion"
   ]
  },
  {
   "cell_type": "code",
   "execution_count": null,
   "id": "6a20ed36",
   "metadata": {},
   "outputs": [],
   "source": [
    "# add in %\n",
    "step_completion['steps_completed'] = step_completion['steps_completed'].str.replace('%', '')\n",
    "step_completion['steps_completed'] = step_completion['steps_completed'].astype(int)\n",
    "\n",
    "step_completion"
   ]
  },
  {
   "cell_type": "markdown",
   "id": "94a059e4",
   "metadata": {},
   "source": [
    "### Create Step completion pivot table"
   ]
  },
  {
   "cell_type": "code",
   "execution_count": null,
   "id": "c0be38e9",
   "metadata": {},
   "outputs": [],
   "source": [
    "step_completion_pivot = pd.pivot_table(step_completion, values='steps_completed', index=['run_code'], aggfunc='mean',  margins=True, margins_name='Total')\n",
    "step_completion_pivot['steps_completed'] = step_completion_pivot['steps_completed']/100\n",
    "step_completion_pivot = step_completion_pivot.reset_index()\n",
    "step_completion_pivot"
   ]
  },
  {
   "cell_type": "markdown",
   "id": "0668142a",
   "metadata": {},
   "source": [
    "# Degree Report"
   ]
  },
  {
   "cell_type": "markdown",
   "id": "c76167ea",
   "metadata": {},
   "source": [
    "### Create list of invites/LTI links sent"
   ]
  },
  {
   "cell_type": "code",
   "execution_count": null,
   "id": "fe342d88",
   "metadata": {},
   "outputs": [],
   "source": [
    "invites_degree = aula_report.copy()\n",
    "invites_degree = invites_degree.drop_duplicates(subset=['learner_identifier', 'DEGREE_COURSE'])\n",
    "invites_degree"
   ]
  },
  {
   "cell_type": "markdown",
   "id": "cd274cc2",
   "metadata": {},
   "source": [
    "### Create one learner per degree sheet"
   ]
  },
  {
   "cell_type": "code",
   "execution_count": null,
   "id": "cf1fa9f2",
   "metadata": {},
   "outputs": [],
   "source": [
    "one_per_degree = learner_report.copy()\n",
    "# Deduplicate by learner_id and run code\n",
    "one_per_degree = one_per_degree.drop_duplicates(subset=['learner_identifier', 'Degree'])\n",
    "one_per_degree\n"
   ]
  },
  {
   "cell_type": "markdown",
   "id": "0c32398e",
   "metadata": {},
   "source": [
    "### Create list of learners who accessed FL during the past week by degree\n",
    "<a id=\"cutoff_past_week_degree\"></a>"
   ]
  },
  {
   "cell_type": "code",
   "execution_count": null,
   "id": "90229b6b",
   "metadata": {},
   "outputs": [],
   "source": [
    "last_week_degree = learner_report.copy()\n",
    "last_week_degree = last_week_degree[(last_week_degree['date_of_last_step_visit'] >= '2023-06-19') & (last_week_degree['date_of_last_step_visit'] <= '2023-06-25')]\n",
    "#remove duplicates by learner_id and run_code\n",
    "last_week_degree = last_week_degree.drop_duplicates(subset=['learner_identifier', 'Degree'])\n",
    "last_week_degree\n",
    "\n"
   ]
  },
  {
   "cell_type": "markdown",
   "id": "292ac031",
   "metadata": {},
   "source": [
    "# Output to Excel"
   ]
  },
  {
   "cell_type": "code",
   "execution_count": null,
   "id": "00902f3c",
   "metadata": {},
   "outputs": [],
   "source": [
    "file_path = 'SLT_Report.xlsx'\n",
    "\n",
    "# Save the DataFrames to the Excel workbook\n",
    "with pd.ExcelWriter(file_path, engine='xlsxwriter') as writer:\n",
    "    learner_report.to_excel(writer, sheet_name='Enhanced Learner Report', index=False)\n",
    "    aula_report.to_excel(writer, sheet_name='Aula report', index=False)\n",
    "    one_per_program.to_excel(writer, sheet_name='1 per program', index=False)\n",
    "    last_week_program.to_excel(writer, sheet_name='Last week program', index=False)\n",
    "    step_completion_pivot.to_excel(writer, sheet_name='Step completion', index=False)\n",
    "    invites_degree.to_excel(writer, sheet_name='Invites Degree', index=False)\n",
    "    one_per_degree.to_excel(writer, sheet_name='1 per Degree', index=False)\n",
    "    last_week_degree.to_excel(writer, sheet_name='Last week degree', index=False)\n",
    "\n",
    "# Display the file path as a link\n",
    "display(FileLink(file_path))"
   ]
  }
 ],
 "metadata": {
  "kernelspec": {
   "display_name": "Python 3 (ipykernel)",
   "language": "python",
   "name": "python3"
  },
  "language_info": {
   "codemirror_mode": {
    "name": "ipython",
    "version": 3
   },
   "file_extension": ".py",
   "mimetype": "text/x-python",
   "name": "python",
   "nbconvert_exporter": "python",
   "pygments_lexer": "ipython3",
   "version": "3.10.9"
  }
 },
 "nbformat": 4,
 "nbformat_minor": 5
}
